{
 "cells": [
  {
   "cell_type": "markdown",
   "metadata": {
    "collapsed": true
   },
   "source": [
    "# Capstone: Segmenting and Clustering Neighborhoods in Toronto"
   ]
  },
  {
   "cell_type": "markdown",
   "metadata": {},
   "source": [
    "## Importing the Libraries:"
   ]
  },
  {
   "cell_type": "code",
   "execution_count": 1,
   "metadata": {},
   "outputs": [],
   "source": [
    "from bs4 import BeautifulSoup\n",
    "import requests\n",
    "import csv\n",
    "import json\n",
    "import xml\n",
    "import numpy as np\n",
    "import pandas as pd"
   ]
  },
  {
   "cell_type": "markdown",
   "metadata": {},
   "source": [
    "## Downloading the Wiki URL:"
   ]
  },
  {
   "cell_type": "code",
   "execution_count": 2,
   "metadata": {},
   "outputs": [],
   "source": [
    "url='https://en.wikipedia.org/wiki/List_of_postal_codes_of_Canada:_M'\n",
    "WikiToronto = requests.get(url).text"
   ]
  },
  {
   "cell_type": "markdown",
   "metadata": {},
   "source": [
    "## Parsing the URL into a BeautifulSoup Object:"
   ]
  },
  {
   "cell_type": "code",
   "execution_count": 3,
   "metadata": {},
   "outputs": [],
   "source": [
    "Toronto_soup = BeautifulSoup(WikiToronto, 'lxml')"
   ]
  },
  {
   "cell_type": "markdown",
   "metadata": {},
   "source": [
    "## Finding the Table that is needed:"
   ]
  },
  {
   "cell_type": "code",
   "execution_count": 4,
   "metadata": {},
   "outputs": [],
   "source": [
    "Toronto_table=Toronto_soup.find('table')"
   ]
  },
  {
   "cell_type": "markdown",
   "metadata": {},
   "source": [
    "## Finding all of the fields (td) data:"
   ]
  },
  {
   "cell_type": "code",
   "execution_count": 5,
   "metadata": {},
   "outputs": [
    {
     "data": {
      "text/plain": [
       "864"
      ]
     },
     "execution_count": 5,
     "metadata": {},
     "output_type": "execute_result"
    }
   ],
   "source": [
    "fields = Toronto_table.find_all('td')\n",
    "len(fields)"
   ]
  },
  {
   "cell_type": "markdown",
   "metadata": {},
   "source": [
    "## Creating the Data Frame:"
   ]
  },
  {
   "cell_type": "code",
   "execution_count": 6,
   "metadata": {},
   "outputs": [
    {
     "data": {
      "text/html": [
       "<div>\n",
       "<style scoped>\n",
       "    .dataframe tbody tr th:only-of-type {\n",
       "        vertical-align: middle;\n",
       "    }\n",
       "\n",
       "    .dataframe tbody tr th {\n",
       "        vertical-align: top;\n",
       "    }\n",
       "\n",
       "    .dataframe thead th {\n",
       "        text-align: right;\n",
       "    }\n",
       "</style>\n",
       "<table border=\"1\" class=\"dataframe\">\n",
       "  <thead>\n",
       "    <tr style=\"text-align: right;\">\n",
       "      <th></th>\n",
       "      <th>Postalcode</th>\n",
       "      <th>Borough</th>\n",
       "      <th>Neighborhood</th>\n",
       "    </tr>\n",
       "  </thead>\n",
       "  <tbody>\n",
       "    <tr>\n",
       "      <th>0</th>\n",
       "      <td>M1A</td>\n",
       "      <td>Not assigned</td>\n",
       "      <td>Not assigned</td>\n",
       "    </tr>\n",
       "    <tr>\n",
       "      <th>1</th>\n",
       "      <td>M2A</td>\n",
       "      <td>Not assigned</td>\n",
       "      <td>Not assigned</td>\n",
       "    </tr>\n",
       "    <tr>\n",
       "      <th>2</th>\n",
       "      <td>M3A</td>\n",
       "      <td>North York</td>\n",
       "      <td>Parkwoods</td>\n",
       "    </tr>\n",
       "    <tr>\n",
       "      <th>3</th>\n",
       "      <td>M4A</td>\n",
       "      <td>North York</td>\n",
       "      <td>Victoria Village</td>\n",
       "    </tr>\n",
       "    <tr>\n",
       "      <th>4</th>\n",
       "      <td>M5A</td>\n",
       "      <td>Downtown Toronto</td>\n",
       "      <td>Harbourfront</td>\n",
       "    </tr>\n",
       "  </tbody>\n",
       "</table>\n",
       "</div>"
      ],
      "text/plain": [
       "  Postalcode           Borough      Neighborhood\n",
       "0        M1A      Not assigned      Not assigned\n",
       "1        M2A      Not assigned      Not assigned\n",
       "2        M3A        North York         Parkwoods\n",
       "3        M4A        North York  Victoria Village\n",
       "4        M5A  Downtown Toronto      Harbourfront"
      ]
     },
     "execution_count": 6,
     "metadata": {},
     "output_type": "execute_result"
    }
   ],
   "source": [
    "# range(start, stop, step)\n",
    "# declaring variables\n",
    "postcode = []\n",
    "borough = []\n",
    "neighbourhood = []\n",
    "\n",
    "#looping through the dataset appending to the variables\n",
    "for i in range(0, len(fields), 3):\n",
    "    postcode.append(fields[i].text.strip())\n",
    "    borough.append(fields[i+1].text.strip())\n",
    "    neighbourhood.append(fields[i+2].text.strip())\n",
    "\n",
    "# creating the pandas dataframe:        \n",
    "df_tor = pd.DataFrame(data=[postcode, borough, neighbourhood]).transpose()\n",
    "df_tor.columns = ['Postalcode', 'Borough', 'Neighborhood']\n",
    "df_tor.head()"
   ]
  },
  {
   "cell_type": "markdown",
   "metadata": {},
   "source": [
    "## Removing the \"Not assigned\" Boroughs from the DataFrame"
   ]
  },
  {
   "cell_type": "code",
   "execution_count": 7,
   "metadata": {},
   "outputs": [
    {
     "data": {
      "text/html": [
       "<div>\n",
       "<style scoped>\n",
       "    .dataframe tbody tr th:only-of-type {\n",
       "        vertical-align: middle;\n",
       "    }\n",
       "\n",
       "    .dataframe tbody tr th {\n",
       "        vertical-align: top;\n",
       "    }\n",
       "\n",
       "    .dataframe thead th {\n",
       "        text-align: right;\n",
       "    }\n",
       "</style>\n",
       "<table border=\"1\" class=\"dataframe\">\n",
       "  <thead>\n",
       "    <tr style=\"text-align: right;\">\n",
       "      <th></th>\n",
       "      <th>Postalcode</th>\n",
       "      <th>Borough</th>\n",
       "      <th>Neighborhood</th>\n",
       "    </tr>\n",
       "  </thead>\n",
       "  <tbody>\n",
       "    <tr>\n",
       "      <th>2</th>\n",
       "      <td>M3A</td>\n",
       "      <td>North York</td>\n",
       "      <td>Parkwoods</td>\n",
       "    </tr>\n",
       "    <tr>\n",
       "      <th>3</th>\n",
       "      <td>M4A</td>\n",
       "      <td>North York</td>\n",
       "      <td>Victoria Village</td>\n",
       "    </tr>\n",
       "    <tr>\n",
       "      <th>4</th>\n",
       "      <td>M5A</td>\n",
       "      <td>Downtown Toronto</td>\n",
       "      <td>Harbourfront</td>\n",
       "    </tr>\n",
       "    <tr>\n",
       "      <th>5</th>\n",
       "      <td>M5A</td>\n",
       "      <td>Downtown Toronto</td>\n",
       "      <td>Regent Park</td>\n",
       "    </tr>\n",
       "    <tr>\n",
       "      <th>6</th>\n",
       "      <td>M6A</td>\n",
       "      <td>North York</td>\n",
       "      <td>Lawrence Heights</td>\n",
       "    </tr>\n",
       "  </tbody>\n",
       "</table>\n",
       "</div>"
      ],
      "text/plain": [
       "  Postalcode           Borough      Neighborhood\n",
       "2        M3A        North York         Parkwoods\n",
       "3        M4A        North York  Victoria Village\n",
       "4        M5A  Downtown Toronto      Harbourfront\n",
       "5        M5A  Downtown Toronto       Regent Park\n",
       "6        M6A        North York  Lawrence Heights"
      ]
     },
     "execution_count": 7,
     "metadata": {},
     "output_type": "execute_result"
    }
   ],
   "source": [
    "df_tor['Borough'].replace('Not assigned', np.nan, inplace=True)\n",
    "df_tor.dropna(subset=['Borough'], inplace=True)\n",
    "df_tor.head()"
   ]
  },
  {
   "cell_type": "markdown",
   "metadata": {},
   "source": [
    "## Replacing the \"Not assigned\" Neighborhoods with the Borough Name"
   ]
  },
  {
   "cell_type": "code",
   "execution_count": 8,
   "metadata": {},
   "outputs": [
    {
     "data": {
      "text/html": [
       "<div>\n",
       "<style scoped>\n",
       "    .dataframe tbody tr th:only-of-type {\n",
       "        vertical-align: middle;\n",
       "    }\n",
       "\n",
       "    .dataframe tbody tr th {\n",
       "        vertical-align: top;\n",
       "    }\n",
       "\n",
       "    .dataframe thead th {\n",
       "        text-align: right;\n",
       "    }\n",
       "</style>\n",
       "<table border=\"1\" class=\"dataframe\">\n",
       "  <thead>\n",
       "    <tr style=\"text-align: right;\">\n",
       "      <th></th>\n",
       "      <th>Postalcode</th>\n",
       "      <th>Borough</th>\n",
       "      <th>Neighborhood</th>\n",
       "    </tr>\n",
       "  </thead>\n",
       "  <tbody>\n",
       "    <tr>\n",
       "      <th>8</th>\n",
       "      <td>M7A</td>\n",
       "      <td>Queen's Park</td>\n",
       "      <td>Not assigned</td>\n",
       "    </tr>\n",
       "  </tbody>\n",
       "</table>\n",
       "</div>"
      ],
      "text/plain": [
       "  Postalcode       Borough  Neighborhood\n",
       "8        M7A  Queen's Park  Not assigned"
      ]
     },
     "execution_count": 8,
     "metadata": {},
     "output_type": "execute_result"
    }
   ],
   "source": [
    "df_tor[df_tor['Neighborhood'].str.match('Not assigned')]"
   ]
  },
  {
   "cell_type": "code",
   "execution_count": 9,
   "metadata": {},
   "outputs": [],
   "source": [
    "df_tor['Neighborhood'].replace('Not assigned', \"Queen's Park\", inplace=True)"
   ]
  },
  {
   "cell_type": "code",
   "execution_count": 10,
   "metadata": {},
   "outputs": [
    {
     "data": {
      "text/html": [
       "<div>\n",
       "<style scoped>\n",
       "    .dataframe tbody tr th:only-of-type {\n",
       "        vertical-align: middle;\n",
       "    }\n",
       "\n",
       "    .dataframe tbody tr th {\n",
       "        vertical-align: top;\n",
       "    }\n",
       "\n",
       "    .dataframe thead th {\n",
       "        text-align: right;\n",
       "    }\n",
       "</style>\n",
       "<table border=\"1\" class=\"dataframe\">\n",
       "  <thead>\n",
       "    <tr style=\"text-align: right;\">\n",
       "      <th></th>\n",
       "      <th>Postalcode</th>\n",
       "      <th>Borough</th>\n",
       "      <th>Neighborhood</th>\n",
       "    </tr>\n",
       "  </thead>\n",
       "  <tbody>\n",
       "  </tbody>\n",
       "</table>\n",
       "</div>"
      ],
      "text/plain": [
       "Empty DataFrame\n",
       "Columns: [Postalcode, Borough, Neighborhood]\n",
       "Index: []"
      ]
     },
     "execution_count": 10,
     "metadata": {},
     "output_type": "execute_result"
    }
   ],
   "source": [
    "df_tor[df_tor['Neighborhood'].str.match('Not assigned')]"
   ]
  },
  {
   "cell_type": "code",
   "execution_count": 11,
   "metadata": {},
   "outputs": [
    {
     "data": {
      "text/html": [
       "<div>\n",
       "<style scoped>\n",
       "    .dataframe tbody tr th:only-of-type {\n",
       "        vertical-align: middle;\n",
       "    }\n",
       "\n",
       "    .dataframe tbody tr th {\n",
       "        vertical-align: top;\n",
       "    }\n",
       "\n",
       "    .dataframe thead th {\n",
       "        text-align: right;\n",
       "    }\n",
       "</style>\n",
       "<table border=\"1\" class=\"dataframe\">\n",
       "  <thead>\n",
       "    <tr style=\"text-align: right;\">\n",
       "      <th></th>\n",
       "      <th>Postalcode</th>\n",
       "      <th>Borough</th>\n",
       "      <th>Neighborhood</th>\n",
       "    </tr>\n",
       "  </thead>\n",
       "  <tbody>\n",
       "    <tr>\n",
       "      <th>2</th>\n",
       "      <td>M3A</td>\n",
       "      <td>North York</td>\n",
       "      <td>Parkwoods</td>\n",
       "    </tr>\n",
       "    <tr>\n",
       "      <th>3</th>\n",
       "      <td>M4A</td>\n",
       "      <td>North York</td>\n",
       "      <td>Victoria Village</td>\n",
       "    </tr>\n",
       "    <tr>\n",
       "      <th>4</th>\n",
       "      <td>M5A</td>\n",
       "      <td>Downtown Toronto</td>\n",
       "      <td>Harbourfront</td>\n",
       "    </tr>\n",
       "    <tr>\n",
       "      <th>5</th>\n",
       "      <td>M5A</td>\n",
       "      <td>Downtown Toronto</td>\n",
       "      <td>Regent Park</td>\n",
       "    </tr>\n",
       "    <tr>\n",
       "      <th>6</th>\n",
       "      <td>M6A</td>\n",
       "      <td>North York</td>\n",
       "      <td>Lawrence Heights</td>\n",
       "    </tr>\n",
       "    <tr>\n",
       "      <th>7</th>\n",
       "      <td>M6A</td>\n",
       "      <td>North York</td>\n",
       "      <td>Lawrence Manor</td>\n",
       "    </tr>\n",
       "    <tr>\n",
       "      <th>8</th>\n",
       "      <td>M7A</td>\n",
       "      <td>Queen's Park</td>\n",
       "      <td>Queen's Park</td>\n",
       "    </tr>\n",
       "    <tr>\n",
       "      <th>10</th>\n",
       "      <td>M9A</td>\n",
       "      <td>Etobicoke</td>\n",
       "      <td>Islington Avenue</td>\n",
       "    </tr>\n",
       "    <tr>\n",
       "      <th>11</th>\n",
       "      <td>M1B</td>\n",
       "      <td>Scarborough</td>\n",
       "      <td>Rouge</td>\n",
       "    </tr>\n",
       "    <tr>\n",
       "      <th>12</th>\n",
       "      <td>M1B</td>\n",
       "      <td>Scarborough</td>\n",
       "      <td>Malvern</td>\n",
       "    </tr>\n",
       "  </tbody>\n",
       "</table>\n",
       "</div>"
      ],
      "text/plain": [
       "   Postalcode           Borough      Neighborhood\n",
       "2         M3A        North York         Parkwoods\n",
       "3         M4A        North York  Victoria Village\n",
       "4         M5A  Downtown Toronto      Harbourfront\n",
       "5         M5A  Downtown Toronto       Regent Park\n",
       "6         M6A        North York  Lawrence Heights\n",
       "7         M6A        North York    Lawrence Manor\n",
       "8         M7A      Queen's Park      Queen's Park\n",
       "10        M9A         Etobicoke  Islington Avenue\n",
       "11        M1B       Scarborough             Rouge\n",
       "12        M1B       Scarborough           Malvern"
      ]
     },
     "execution_count": 11,
     "metadata": {},
     "output_type": "execute_result"
    }
   ],
   "source": [
    "#Visualizing the first few rows of the dataframe\n",
    "df_tor.head(10)"
   ]
  },
  {
   "cell_type": "markdown",
   "metadata": {},
   "source": [
    "## Grouping the Neighborhoods together for the same Postalcode and Borough"
   ]
  },
  {
   "cell_type": "code",
   "execution_count": 12,
   "metadata": {},
   "outputs": [],
   "source": [
    "tor_df = df_tor.groupby(['Postalcode', 'Borough'])['Neighborhood'].apply(', '.join).reset_index()"
   ]
  },
  {
   "cell_type": "code",
   "execution_count": 13,
   "metadata": {},
   "outputs": [
    {
     "data": {
      "text/html": [
       "<div>\n",
       "<style scoped>\n",
       "    .dataframe tbody tr th:only-of-type {\n",
       "        vertical-align: middle;\n",
       "    }\n",
       "\n",
       "    .dataframe tbody tr th {\n",
       "        vertical-align: top;\n",
       "    }\n",
       "\n",
       "    .dataframe thead th {\n",
       "        text-align: right;\n",
       "    }\n",
       "</style>\n",
       "<table border=\"1\" class=\"dataframe\">\n",
       "  <thead>\n",
       "    <tr style=\"text-align: right;\">\n",
       "      <th></th>\n",
       "      <th>Postalcode</th>\n",
       "      <th>Borough</th>\n",
       "      <th>Neighborhood</th>\n",
       "    </tr>\n",
       "  </thead>\n",
       "  <tbody>\n",
       "    <tr>\n",
       "      <th>0</th>\n",
       "      <td>M1B</td>\n",
       "      <td>Scarborough</td>\n",
       "      <td>Rouge, Malvern</td>\n",
       "    </tr>\n",
       "    <tr>\n",
       "      <th>1</th>\n",
       "      <td>M1C</td>\n",
       "      <td>Scarborough</td>\n",
       "      <td>Highland Creek, Rouge Hill, Port Union</td>\n",
       "    </tr>\n",
       "    <tr>\n",
       "      <th>2</th>\n",
       "      <td>M1E</td>\n",
       "      <td>Scarborough</td>\n",
       "      <td>Guildwood, Morningside, West Hill</td>\n",
       "    </tr>\n",
       "    <tr>\n",
       "      <th>3</th>\n",
       "      <td>M1G</td>\n",
       "      <td>Scarborough</td>\n",
       "      <td>Woburn</td>\n",
       "    </tr>\n",
       "    <tr>\n",
       "      <th>4</th>\n",
       "      <td>M1H</td>\n",
       "      <td>Scarborough</td>\n",
       "      <td>Cedarbrae</td>\n",
       "    </tr>\n",
       "    <tr>\n",
       "      <th>5</th>\n",
       "      <td>M1J</td>\n",
       "      <td>Scarborough</td>\n",
       "      <td>Scarborough Village</td>\n",
       "    </tr>\n",
       "    <tr>\n",
       "      <th>6</th>\n",
       "      <td>M1K</td>\n",
       "      <td>Scarborough</td>\n",
       "      <td>East Birchmount Park, Ionview, Kennedy Park</td>\n",
       "    </tr>\n",
       "    <tr>\n",
       "      <th>7</th>\n",
       "      <td>M1L</td>\n",
       "      <td>Scarborough</td>\n",
       "      <td>Clairlea, Golden Mile, Oakridge</td>\n",
       "    </tr>\n",
       "    <tr>\n",
       "      <th>8</th>\n",
       "      <td>M1M</td>\n",
       "      <td>Scarborough</td>\n",
       "      <td>Cliffcrest, Cliffside, Scarborough Village West</td>\n",
       "    </tr>\n",
       "    <tr>\n",
       "      <th>9</th>\n",
       "      <td>M1N</td>\n",
       "      <td>Scarborough</td>\n",
       "      <td>Birch Cliff, Cliffside West</td>\n",
       "    </tr>\n",
       "  </tbody>\n",
       "</table>\n",
       "</div>"
      ],
      "text/plain": [
       "  Postalcode      Borough                                     Neighborhood\n",
       "0        M1B  Scarborough                                   Rouge, Malvern\n",
       "1        M1C  Scarborough           Highland Creek, Rouge Hill, Port Union\n",
       "2        M1E  Scarborough                Guildwood, Morningside, West Hill\n",
       "3        M1G  Scarborough                                           Woburn\n",
       "4        M1H  Scarborough                                        Cedarbrae\n",
       "5        M1J  Scarborough                              Scarborough Village\n",
       "6        M1K  Scarborough      East Birchmount Park, Ionview, Kennedy Park\n",
       "7        M1L  Scarborough                  Clairlea, Golden Mile, Oakridge\n",
       "8        M1M  Scarborough  Cliffcrest, Cliffside, Scarborough Village West\n",
       "9        M1N  Scarborough                      Birch Cliff, Cliffside West"
      ]
     },
     "execution_count": 13,
     "metadata": {},
     "output_type": "execute_result"
    }
   ],
   "source": [
    "tor_df.head(10)"
   ]
  },
  {
   "cell_type": "markdown",
   "metadata": {},
   "source": [
    "## Displaying the shape of the dataframe"
   ]
  },
  {
   "cell_type": "code",
   "execution_count": 14,
   "metadata": {},
   "outputs": [
    {
     "data": {
      "text/plain": [
       "(103, 3)"
      ]
     },
     "execution_count": 14,
     "metadata": {},
     "output_type": "execute_result"
    }
   ],
   "source": [
    "tor_df.shape"
   ]
  },
  {
   "cell_type": "markdown",
   "metadata": {},
   "source": [
    "## Loading in the Geospatial data from a file"
   ]
  },
  {
   "cell_type": "code",
   "execution_count": 15,
   "metadata": {},
   "outputs": [
    {
     "data": {
      "text/html": [
       "<div>\n",
       "<style scoped>\n",
       "    .dataframe tbody tr th:only-of-type {\n",
       "        vertical-align: middle;\n",
       "    }\n",
       "\n",
       "    .dataframe tbody tr th {\n",
       "        vertical-align: top;\n",
       "    }\n",
       "\n",
       "    .dataframe thead th {\n",
       "        text-align: right;\n",
       "    }\n",
       "</style>\n",
       "<table border=\"1\" class=\"dataframe\">\n",
       "  <thead>\n",
       "    <tr style=\"text-align: right;\">\n",
       "      <th></th>\n",
       "      <th>Postal Code</th>\n",
       "      <th>Latitude</th>\n",
       "      <th>Longitude</th>\n",
       "    </tr>\n",
       "  </thead>\n",
       "  <tbody>\n",
       "    <tr>\n",
       "      <th>0</th>\n",
       "      <td>M1B</td>\n",
       "      <td>43.806686</td>\n",
       "      <td>-79.194353</td>\n",
       "    </tr>\n",
       "    <tr>\n",
       "      <th>1</th>\n",
       "      <td>M1C</td>\n",
       "      <td>43.784535</td>\n",
       "      <td>-79.160497</td>\n",
       "    </tr>\n",
       "    <tr>\n",
       "      <th>2</th>\n",
       "      <td>M1E</td>\n",
       "      <td>43.763573</td>\n",
       "      <td>-79.188711</td>\n",
       "    </tr>\n",
       "    <tr>\n",
       "      <th>3</th>\n",
       "      <td>M1G</td>\n",
       "      <td>43.770992</td>\n",
       "      <td>-79.216917</td>\n",
       "    </tr>\n",
       "    <tr>\n",
       "      <th>4</th>\n",
       "      <td>M1H</td>\n",
       "      <td>43.773136</td>\n",
       "      <td>-79.239476</td>\n",
       "    </tr>\n",
       "    <tr>\n",
       "      <th>5</th>\n",
       "      <td>M1J</td>\n",
       "      <td>43.744734</td>\n",
       "      <td>-79.239476</td>\n",
       "    </tr>\n",
       "    <tr>\n",
       "      <th>6</th>\n",
       "      <td>M1K</td>\n",
       "      <td>43.727929</td>\n",
       "      <td>-79.262029</td>\n",
       "    </tr>\n",
       "    <tr>\n",
       "      <th>7</th>\n",
       "      <td>M1L</td>\n",
       "      <td>43.711112</td>\n",
       "      <td>-79.284577</td>\n",
       "    </tr>\n",
       "    <tr>\n",
       "      <th>8</th>\n",
       "      <td>M1M</td>\n",
       "      <td>43.716316</td>\n",
       "      <td>-79.239476</td>\n",
       "    </tr>\n",
       "    <tr>\n",
       "      <th>9</th>\n",
       "      <td>M1N</td>\n",
       "      <td>43.692657</td>\n",
       "      <td>-79.264848</td>\n",
       "    </tr>\n",
       "  </tbody>\n",
       "</table>\n",
       "</div>"
      ],
      "text/plain": [
       "  Postal Code   Latitude  Longitude\n",
       "0         M1B  43.806686 -79.194353\n",
       "1         M1C  43.784535 -79.160497\n",
       "2         M1E  43.763573 -79.188711\n",
       "3         M1G  43.770992 -79.216917\n",
       "4         M1H  43.773136 -79.239476\n",
       "5         M1J  43.744734 -79.239476\n",
       "6         M1K  43.727929 -79.262029\n",
       "7         M1L  43.711112 -79.284577\n",
       "8         M1M  43.716316 -79.239476\n",
       "9         M1N  43.692657 -79.264848"
      ]
     },
     "execution_count": 15,
     "metadata": {},
     "output_type": "execute_result"
    }
   ],
   "source": [
    "df_geo = pd.read_csv('http://cocl.us/Geospatial_data')\n",
    "df_geo.head(10)"
   ]
  },
  {
   "cell_type": "markdown",
   "metadata": {},
   "source": [
    "## Merging the data together"
   ]
  },
  {
   "cell_type": "code",
   "execution_count": 16,
   "metadata": {},
   "outputs": [],
   "source": [
    "df_geo.columns = ['Postalcode', 'Latitude', 'Longitude']"
   ]
  },
  {
   "cell_type": "code",
   "execution_count": 17,
   "metadata": {},
   "outputs": [],
   "source": [
    "df_torcomplete = pd.merge(tor_df, df_geo, on=['Postalcode'], how='inner')"
   ]
  },
  {
   "cell_type": "code",
   "execution_count": 18,
   "metadata": {},
   "outputs": [
    {
     "data": {
      "text/html": [
       "<div>\n",
       "<style scoped>\n",
       "    .dataframe tbody tr th:only-of-type {\n",
       "        vertical-align: middle;\n",
       "    }\n",
       "\n",
       "    .dataframe tbody tr th {\n",
       "        vertical-align: top;\n",
       "    }\n",
       "\n",
       "    .dataframe thead th {\n",
       "        text-align: right;\n",
       "    }\n",
       "</style>\n",
       "<table border=\"1\" class=\"dataframe\">\n",
       "  <thead>\n",
       "    <tr style=\"text-align: right;\">\n",
       "      <th></th>\n",
       "      <th>Postalcode</th>\n",
       "      <th>Borough</th>\n",
       "      <th>Neighborhood</th>\n",
       "      <th>Latitude</th>\n",
       "      <th>Longitude</th>\n",
       "    </tr>\n",
       "  </thead>\n",
       "  <tbody>\n",
       "    <tr>\n",
       "      <th>0</th>\n",
       "      <td>M1B</td>\n",
       "      <td>Scarborough</td>\n",
       "      <td>Rouge, Malvern</td>\n",
       "      <td>43.806686</td>\n",
       "      <td>-79.194353</td>\n",
       "    </tr>\n",
       "    <tr>\n",
       "      <th>1</th>\n",
       "      <td>M1C</td>\n",
       "      <td>Scarborough</td>\n",
       "      <td>Highland Creek, Rouge Hill, Port Union</td>\n",
       "      <td>43.784535</td>\n",
       "      <td>-79.160497</td>\n",
       "    </tr>\n",
       "    <tr>\n",
       "      <th>2</th>\n",
       "      <td>M1E</td>\n",
       "      <td>Scarborough</td>\n",
       "      <td>Guildwood, Morningside, West Hill</td>\n",
       "      <td>43.763573</td>\n",
       "      <td>-79.188711</td>\n",
       "    </tr>\n",
       "    <tr>\n",
       "      <th>3</th>\n",
       "      <td>M1G</td>\n",
       "      <td>Scarborough</td>\n",
       "      <td>Woburn</td>\n",
       "      <td>43.770992</td>\n",
       "      <td>-79.216917</td>\n",
       "    </tr>\n",
       "    <tr>\n",
       "      <th>4</th>\n",
       "      <td>M1H</td>\n",
       "      <td>Scarborough</td>\n",
       "      <td>Cedarbrae</td>\n",
       "      <td>43.773136</td>\n",
       "      <td>-79.239476</td>\n",
       "    </tr>\n",
       "    <tr>\n",
       "      <th>5</th>\n",
       "      <td>M1J</td>\n",
       "      <td>Scarborough</td>\n",
       "      <td>Scarborough Village</td>\n",
       "      <td>43.744734</td>\n",
       "      <td>-79.239476</td>\n",
       "    </tr>\n",
       "    <tr>\n",
       "      <th>6</th>\n",
       "      <td>M1K</td>\n",
       "      <td>Scarborough</td>\n",
       "      <td>East Birchmount Park, Ionview, Kennedy Park</td>\n",
       "      <td>43.727929</td>\n",
       "      <td>-79.262029</td>\n",
       "    </tr>\n",
       "    <tr>\n",
       "      <th>7</th>\n",
       "      <td>M1L</td>\n",
       "      <td>Scarborough</td>\n",
       "      <td>Clairlea, Golden Mile, Oakridge</td>\n",
       "      <td>43.711112</td>\n",
       "      <td>-79.284577</td>\n",
       "    </tr>\n",
       "    <tr>\n",
       "      <th>8</th>\n",
       "      <td>M1M</td>\n",
       "      <td>Scarborough</td>\n",
       "      <td>Cliffcrest, Cliffside, Scarborough Village West</td>\n",
       "      <td>43.716316</td>\n",
       "      <td>-79.239476</td>\n",
       "    </tr>\n",
       "    <tr>\n",
       "      <th>9</th>\n",
       "      <td>M1N</td>\n",
       "      <td>Scarborough</td>\n",
       "      <td>Birch Cliff, Cliffside West</td>\n",
       "      <td>43.692657</td>\n",
       "      <td>-79.264848</td>\n",
       "    </tr>\n",
       "  </tbody>\n",
       "</table>\n",
       "</div>"
      ],
      "text/plain": [
       "  Postalcode      Borough                                     Neighborhood  \\\n",
       "0        M1B  Scarborough                                   Rouge, Malvern   \n",
       "1        M1C  Scarborough           Highland Creek, Rouge Hill, Port Union   \n",
       "2        M1E  Scarborough                Guildwood, Morningside, West Hill   \n",
       "3        M1G  Scarborough                                           Woburn   \n",
       "4        M1H  Scarborough                                        Cedarbrae   \n",
       "5        M1J  Scarborough                              Scarborough Village   \n",
       "6        M1K  Scarborough      East Birchmount Park, Ionview, Kennedy Park   \n",
       "7        M1L  Scarborough                  Clairlea, Golden Mile, Oakridge   \n",
       "8        M1M  Scarborough  Cliffcrest, Cliffside, Scarborough Village West   \n",
       "9        M1N  Scarborough                      Birch Cliff, Cliffside West   \n",
       "\n",
       "    Latitude  Longitude  \n",
       "0  43.806686 -79.194353  \n",
       "1  43.784535 -79.160497  \n",
       "2  43.763573 -79.188711  \n",
       "3  43.770992 -79.216917  \n",
       "4  43.773136 -79.239476  \n",
       "5  43.744734 -79.239476  \n",
       "6  43.727929 -79.262029  \n",
       "7  43.711112 -79.284577  \n",
       "8  43.716316 -79.239476  \n",
       "9  43.692657 -79.264848  "
      ]
     },
     "execution_count": 18,
     "metadata": {},
     "output_type": "execute_result"
    }
   ],
   "source": [
    "df_torcomplete.head(10)"
   ]
  },
  {
   "cell_type": "code",
   "execution_count": 19,
   "metadata": {},
   "outputs": [
    {
     "name": "stdout",
     "output_type": "stream",
     "text": [
      "The dataframe has 11 boroughs and 103 neighborhoods.\n"
     ]
    }
   ],
   "source": [
    "print('The dataframe has {} boroughs and {} neighborhoods.'.format(\n",
    "        len(df_torcomplete['Borough'].unique()),\n",
    "        df_torcomplete.shape[0]\n",
    "    )\n",
    ")\n"
   ]
  },
  {
   "cell_type": "code",
   "execution_count": 20,
   "metadata": {},
   "outputs": [
    {
     "data": {
      "text/plain": [
       "(103, 5)"
      ]
     },
     "execution_count": 20,
     "metadata": {},
     "output_type": "execute_result"
    }
   ],
   "source": [
    "df_torcomplete.shape"
   ]
  },
  {
   "cell_type": "code",
   "execution_count": 23,
   "metadata": {},
   "outputs": [],
   "source": []
  },
  {
   "cell_type": "markdown",
   "metadata": {},
   "source": [
    "## Loading in more Libraries"
   ]
  },
  {
   "cell_type": "code",
   "execution_count": 24,
   "metadata": {},
   "outputs": [
    {
     "name": "stdout",
     "output_type": "stream",
     "text": [
      "Libraries imported.\n"
     ]
    }
   ],
   "source": [
    "from geopy.geocoders import Nominatim # convert an address into latitude and longitude values\n",
    "import requests # library to handle requests\n",
    "# Matplotlib and associated plotting modules\n",
    "import matplotlib.cm as cm\n",
    "import matplotlib.colors as colors\n",
    "\n",
    "# import k-means from clustering stage\n",
    "from sklearn.cluster import KMeans\n",
    "import folium # map rendering library\n",
    "print('Libraries imported.')"
   ]
  },
  {
   "cell_type": "markdown",
   "metadata": {},
   "source": [
    "## Find the coordinates of Toronto"
   ]
  },
  {
   "cell_type": "code",
   "execution_count": 22,
   "metadata": {},
   "outputs": [
    {
     "name": "stdout",
     "output_type": "stream",
     "text": [
      "The geograpical coordinate of the City of Toronto are 43.653963, -79.387207.\n"
     ]
    }
   ],
   "source": [
    "address = 'Toronto, Canada'\n",
    "geolocator = Nominatim(user_agent=\"toronto_explorer\")\n",
    "location = geolocator.geocode(address)\n",
    "latitude = location.latitude\n",
    "longitude = location.longitude\n",
    "print('The geograpical coordinate of the City of Toronto are {}, {}.'.format(latitude, longitude))"
   ]
  },
  {
   "cell_type": "markdown",
   "metadata": {},
   "source": [
    "## Creating the map with the clusters"
   ]
  },
  {
   "cell_type": "code",
   "execution_count": 25,
   "metadata": {},
   "outputs": [
    {
     "data": {
      "text/html": [
       "<div style=\"width:100%;\"><div style=\"position:relative;width:100%;height:0;padding-bottom:60%;\"><iframe src=\"data:text/html;charset=utf-8;base64,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\" style=\"position:absolute;width:100%;height:100%;left:0;top:0;border:none !important;\" allowfullscreen webkitallowfullscreen mozallowfullscreen></iframe></div></div>"
      ],
      "text/plain": [
       "<folium.folium.Map at 0x25e34cf67b8>"
      ]
     },
     "execution_count": 25,
     "metadata": {},
     "output_type": "execute_result"
    }
   ],
   "source": [
    "# create map of Toronto using latitude and longitude values\n",
    "map_toronto = folium.Map(location=[latitude, longitude], zoom_start=10)\n",
    "\n",
    "# add markers to map\n",
    "for lat, lng, borough, neighborhood in zip(df_torcomplete['Latitude'], df_torcomplete['Longitude'], df_torcomplete['Borough'], df_torcomplete['Neighborhood']):\n",
    "    label = '{}, {}'.format(neighborhood, borough)\n",
    "    label = folium.Popup(label, parse_html=True)\n",
    "    folium.CircleMarker(\n",
    "        [lat, lng],\n",
    "        radius=3,\n",
    "        popup=label,\n",
    "        color='red',\n",
    "        fill=True,\n",
    "        fill_color='#3199cc',\n",
    "        fill_opacity=0.3,\n",
    "        parse_html=False).add_to(map_toronto)  \n",
    "    \n",
    "map_toronto"
   ]
  },
  {
   "cell_type": "code",
   "execution_count": null,
   "metadata": {},
   "outputs": [],
   "source": []
  }
 ],
 "metadata": {
  "kernelspec": {
   "display_name": "Python 3",
   "language": "python",
   "name": "python3"
  },
  "language_info": {
   "codemirror_mode": {
    "name": "ipython",
    "version": 3
   },
   "file_extension": ".py",
   "mimetype": "text/x-python",
   "name": "python",
   "nbconvert_exporter": "python",
   "pygments_lexer": "ipython3",
   "version": "3.7.0"
  }
 },
 "nbformat": 4,
 "nbformat_minor": 1
}
